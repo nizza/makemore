{
 "cells": [
  {
   "cell_type": "markdown",
   "metadata": {
    "id": "rToK0Tku8PPn"
   },
   "source": [
    "## makemore: becoming a backprop ninja"
   ]
  },
  {
   "cell_type": "code",
   "execution_count": 1,
   "metadata": {
    "id": "8sFElPqq8PPp"
   },
   "outputs": [],
   "source": [
    "# there no change change in the first several cells from last lecture"
   ]
  },
  {
   "cell_type": "code",
   "execution_count": 1,
   "metadata": {
    "id": "ChBbac4y8PPq"
   },
   "outputs": [],
   "source": [
    "import torch\n",
    "import torch.nn.functional as F\n",
    "import matplotlib.pyplot as plt # for making figures\n",
    "%matplotlib inline"
   ]
  },
  {
   "cell_type": "code",
   "execution_count": 2,
   "metadata": {
    "id": "x6GhEWW18aCS"
   },
   "outputs": [],
   "source": [
    "# download the names.txt file from github\n",
    "#!wget https://raw.githubusercontent.com/karpathy/makemore/master/names.txt"
   ]
  },
  {
   "cell_type": "code",
   "execution_count": 4,
   "metadata": {
    "id": "klmu3ZG08PPr"
   },
   "outputs": [
    {
     "name": "stdout",
     "output_type": "stream",
     "text": [
      "32033\n",
      "15\n",
      "['emma', 'olivia', 'ava', 'isabella', 'sophia', 'charlotte', 'mia', 'amelia']\n"
     ]
    }
   ],
   "source": [
    "# read in all the words\n",
    "words = open('../names.txt', 'r').read().splitlines()\n",
    "print(len(words))\n",
    "print(max(len(w) for w in words))\n",
    "print(words[:8])"
   ]
  },
  {
   "cell_type": "code",
   "execution_count": 5,
   "metadata": {
    "id": "BCQomLE_8PPs"
   },
   "outputs": [
    {
     "name": "stdout",
     "output_type": "stream",
     "text": [
      "{1: 'a', 2: 'b', 3: 'c', 4: 'd', 5: 'e', 6: 'f', 7: 'g', 8: 'h', 9: 'i', 10: 'j', 11: 'k', 12: 'l', 13: 'm', 14: 'n', 15: 'o', 16: 'p', 17: 'q', 18: 'r', 19: 's', 20: 't', 21: 'u', 22: 'v', 23: 'w', 24: 'x', 25: 'y', 26: 'z', 0: '.'}\n",
      "27\n"
     ]
    }
   ],
   "source": [
    "# build the vocabulary of characters and mappings to/from integers\n",
    "chars = sorted(list(set(''.join(words))))\n",
    "stoi = {s:i+1 for i,s in enumerate(chars)}\n",
    "stoi['.'] = 0\n",
    "itos = {i:s for s,i in stoi.items()}\n",
    "vocab_size = len(itos)\n",
    "print(itos)\n",
    "print(vocab_size)"
   ]
  },
  {
   "cell_type": "code",
   "execution_count": 6,
   "metadata": {
    "id": "V_zt2QHr8PPs"
   },
   "outputs": [
    {
     "name": "stdout",
     "output_type": "stream",
     "text": [
      "torch.Size([182625, 3]) torch.Size([182625])\n",
      "torch.Size([22655, 3]) torch.Size([22655])\n",
      "torch.Size([22866, 3]) torch.Size([22866])\n"
     ]
    }
   ],
   "source": [
    "# build the dataset\n",
    "block_size = 3 # context length: how many characters do we take to predict the next one?\n",
    "\n",
    "def build_dataset(words):\n",
    "  X, Y = [], []\n",
    "\n",
    "  for w in words:\n",
    "    context = [0] * block_size\n",
    "    for ch in w + '.':\n",
    "      ix = stoi[ch]\n",
    "      X.append(context)\n",
    "      Y.append(ix)\n",
    "      context = context[1:] + [ix] # crop and append\n",
    "\n",
    "  X = torch.tensor(X)\n",
    "  Y = torch.tensor(Y)\n",
    "  print(X.shape, Y.shape)\n",
    "  return X, Y\n",
    "\n",
    "import random\n",
    "random.seed(42)\n",
    "random.shuffle(words)\n",
    "n1 = int(0.8*len(words))\n",
    "n2 = int(0.9*len(words))\n",
    "\n",
    "Xtr,  Ytr  = build_dataset(words[:n1])     # 80%\n",
    "Xdev, Ydev = build_dataset(words[n1:n2])   # 10%\n",
    "Xte,  Yte  = build_dataset(words[n2:])     # 10%"
   ]
  },
  {
   "cell_type": "code",
   "execution_count": 7,
   "metadata": {
    "id": "eg20-vsg8PPt"
   },
   "outputs": [],
   "source": [
    "# ok biolerplate done, now we get to the action:"
   ]
  },
  {
   "cell_type": "code",
   "execution_count": 8,
   "metadata": {
    "id": "MJPU8HT08PPu"
   },
   "outputs": [],
   "source": [
    "# utility function we will use later when comparing manual gradients to PyTorch gradients\n",
    "def cmp(s, dt, t):\n",
    "  ex = torch.all(dt == t.grad).item()\n",
    "  app = torch.allclose(dt, t.grad)\n",
    "  maxdiff = (dt - t.grad).abs().max().item()\n",
    "  print(f'{s:15s} | exact: {str(ex):5s} | approximate: {str(app):5s} | maxdiff: {maxdiff}')"
   ]
  },
  {
   "cell_type": "code",
   "execution_count": 9,
   "metadata": {
    "id": "ZlFLjQyT8PPu"
   },
   "outputs": [
    {
     "name": "stdout",
     "output_type": "stream",
     "text": [
      "4137\n"
     ]
    }
   ],
   "source": [
    "n_embd = 10 # the dimensionality of the character embedding vectors\n",
    "n_hidden = 64 # the number of neurons in the hidden layer of the MLP\n",
    "\n",
    "g = torch.Generator().manual_seed(2147483647) # for reproducibility\n",
    "C  = torch.randn((vocab_size, n_embd),            generator=g)\n",
    "# Layer 1\n",
    "W1 = torch.randn((n_embd * block_size, n_hidden), generator=g) * (5/3)/((n_embd * block_size)**0.5)\n",
    "b1 = torch.randn(n_hidden,                        generator=g) * 0.1 # using b1 just for fun, it's useless because of BN\n",
    "# Layer 2\n",
    "W2 = torch.randn((n_hidden, vocab_size),          generator=g) * 0.1\n",
    "b2 = torch.randn(vocab_size,                      generator=g) * 0.1\n",
    "# BatchNorm parameters\n",
    "bngain = torch.randn((1, n_hidden))*0.1 + 1.0\n",
    "bnbias = torch.randn((1, n_hidden))*0.1\n",
    "\n",
    "# Note: I am initializating many of these parameters in non-standard ways\n",
    "# because sometimes initializating with e.g. all zeros could mask an incorrect\n",
    "# implementation of the backward pass.\n",
    "\n",
    "parameters = [C, W1, b1, W2, b2, bngain, bnbias]\n",
    "print(sum(p.nelement() for p in parameters)) # number of parameters in total\n",
    "for p in parameters:\n",
    "  p.requires_grad = True"
   ]
  },
  {
   "cell_type": "code",
   "execution_count": 10,
   "metadata": {
    "id": "QY-y96Y48PPv"
   },
   "outputs": [],
   "source": [
    "batch_size = 32\n",
    "n = batch_size # a shorter variable also, for convenience\n",
    "# construct a minibatch\n",
    "ix = torch.randint(0, Xtr.shape[0], (batch_size,), generator=g)\n",
    "Xb, Yb = Xtr[ix], Ytr[ix] # batch X,Y"
   ]
  },
  {
   "cell_type": "code",
   "execution_count": 11,
   "metadata": {
    "id": "8ofj1s6d8PPv"
   },
   "outputs": [
    {
     "data": {
      "text/plain": [
       "tensor(3.3430, grad_fn=<NegBackward0>)"
      ]
     },
     "execution_count": 11,
     "metadata": {},
     "output_type": "execute_result"
    }
   ],
   "source": [
    "# forward pass, \"chunkated\" into smaller steps that are possible to backward one at a time\n",
    "\n",
    "emb = C[Xb] # embed the characters into vectors\n",
    "embcat = emb.view(emb.shape[0], -1) # concatenate the vectors\n",
    "# Linear layer 1\n",
    "hprebn = embcat @ W1 + b1 # hidden layer pre-activation\n",
    "# BatchNorm layer\n",
    "bnmeani = 1/n*hprebn.sum(0, keepdim=True)\n",
    "bndiff = hprebn - bnmeani\n",
    "bndiff2 = bndiff**2\n",
    "bnvar = 1/(n-1)*(bndiff2).sum(0, keepdim=True) # note: Bessel's correction (dividing by n-1, not n)\n",
    "bnvar_inv = (bnvar + 1e-5)**-0.5\n",
    "bnraw = bndiff * bnvar_inv\n",
    "hpreact = bngain * bnraw + bnbias\n",
    "# Non-linearity\n",
    "h = torch.tanh(hpreact) # hidden layer\n",
    "# Linear layer 2\n",
    "logits = h @ W2 + b2 # output layer\n",
    "# cross entropy loss (same as F.cross_entropy(logits, Yb))\n",
    "logit_maxes = logits.max(1, keepdim=True).values\n",
    "norm_logits = logits - logit_maxes # subtract max for numerical stability\n",
    "counts = norm_logits.exp()\n",
    "counts_sum = counts.sum(1, keepdims=True)\n",
    "counts_sum_inv = counts_sum**-1 # if I use (1.0 / counts_sum) instead then I can't get backprop to be bit exact...\n",
    "probs = counts * counts_sum_inv\n",
    "logprobs = probs.log()\n",
    "loss = -logprobs[range(n), Yb].mean()\n",
    "\n",
    "# PyTorch backward pass\n",
    "for p in parameters:\n",
    "  p.grad = None\n",
    "for t in [logprobs, probs, counts, counts_sum, counts_sum_inv, # afaik there is no cleaner way\n",
    "          norm_logits, logit_maxes, logits, h, hpreact, bnraw,\n",
    "         bnvar_inv, bnvar, bndiff2, bndiff, hprebn, bnmeani,\n",
    "         embcat, emb]:\n",
    "  t.retain_grad()\n",
    "loss.backward()\n",
    "loss"
   ]
  },
  {
   "cell_type": "code",
   "execution_count": 268,
   "metadata": {
    "id": "mO-8aqxK8PPw"
   },
   "outputs": [
    {
     "name": "stdout",
     "output_type": "stream",
     "text": [
      "logprobs        | exact: True  | approximate: True  | maxdiff: 0.0\n",
      "probs           | exact: True  | approximate: True  | maxdiff: 0.0\n",
      "counts_sum_inv  | exact: True  | approximate: True  | maxdiff: 0.0\n",
      "counts_sum      | exact: True  | approximate: True  | maxdiff: 0.0\n",
      "counts          | exact: True  | approximate: True  | maxdiff: 0.0\n",
      "norm_logits     | exact: True  | approximate: True  | maxdiff: 0.0\n",
      "logit_maxes     | exact: True  | approximate: True  | maxdiff: 0.0\n",
      "logits          | exact: True  | approximate: True  | maxdiff: 0.0\n",
      "h               | exact: True  | approximate: True  | maxdiff: 0.0\n",
      "W2              | exact: True  | approximate: True  | maxdiff: 0.0\n",
      "b2              | exact: True  | approximate: True  | maxdiff: 0.0\n",
      "hpreact         | exact: True  | approximate: True  | maxdiff: 0.0\n",
      "bngain          | exact: True  | approximate: True  | maxdiff: 0.0\n",
      "bnbias          | exact: True  | approximate: True  | maxdiff: 0.0\n",
      "bnraw           | exact: True  | approximate: True  | maxdiff: 0.0\n",
      "bnvar_inv       | exact: True  | approximate: True  | maxdiff: 0.0\n",
      "bnvar           | exact: True  | approximate: True  | maxdiff: 0.0\n",
      "bndiff2         | exact: True  | approximate: True  | maxdiff: 0.0\n",
      "bndiff          | exact: True  | approximate: True  | maxdiff: 0.0\n",
      "bnmeani         | exact: True  | approximate: True  | maxdiff: 0.0\n",
      "hprebn          | exact: True  | approximate: True  | maxdiff: 0.0\n",
      "embcat          | exact: True  | approximate: True  | maxdiff: 0.0\n",
      "W1              | exact: True  | approximate: True  | maxdiff: 0.0\n",
      "b1              | exact: True  | approximate: True  | maxdiff: 0.0\n",
      "emb             | exact: True  | approximate: True  | maxdiff: 0.0\n",
      "C               | exact: True  | approximate: True  | maxdiff: 0.0\n"
     ]
    }
   ],
   "source": [
    "# Exercise 1: backprop through the whole thing manually,\n",
    "# backpropagating through exactly all of the variables\n",
    "# as they are defined in the forward pass above, one by one\n",
    "\n",
    "\n",
    "# dlogprobs\n",
    "# loss is the average of the value of the the matrix log probs, that correspond to the actual next characters\n",
    "#  - for each row we select only the element corresponding to the correct character of that sample\n",
    "#  - we compute the mean of only the selected elements\n",
    "# Given the considerations we can say that:\n",
    "#  - dlogprobs is a matrix of size (batch_size, vocabulary_size) where most of the elements are zeros\n",
    "#  - for each row of dlogprobs, only the element corresponding to the correct character is non zero\n",
    "#  - since the loss is the average of these elements\n",
    "#     loss = - 1/batch_size  (logprob1 + logprob2...)\n",
    "#          = -logprob1/batch_size -logprob1/batch_size - ....\n",
    "#    the derivative of each of these elements is -1/batch_size\n",
    "dlogprobs = torch.zeros_like(logprobs)\n",
    "dlogprobs[range(n), Yb] = - 1 / batch_size\n",
    "\n",
    "# dprobs\n",
    "# logprobs = log(probs) \n",
    "# dloss/dprobs = dloss/dlogprobs * dlogprobs/dprobs\n",
    "# dlogprobs/dprobs = 1/probs\n",
    "# dloss/dprobs = dloss/dlogprobs * 1/probs\n",
    "dprobs = dlogprobs * probs**-1\n",
    "\n",
    "# counts_sum_inv\n",
    "# probs = counts * counts_sum_inv\n",
    "# dloss/dcounts_sum_inv = dloss/dprobs * dprobs/dcounts_sum_inv\n",
    "# Careful attentions must payed here, as the elementwise multiplication counts  * counts_sum_inv \n",
    "# hides an implicit bradcasting operation:\n",
    "#  - counts.shape = (32, 27)\n",
    "#  - counts_sum_inv.shape = (32, 1)\n",
    "# Before the element wise multiplication the matrix\n",
    "#  counts_sum_inv = [ s1,\n",
    "#                     s2,\n",
    "#                     ..\n",
    "#                     sn]\n",
    "# is transformed, through the broadcasting operation into \n",
    "#  counts_sum_inv_b = [ s1, s1, .., s1\n",
    "#                       s2, s2, .., s2\n",
    "#                       .., ..........\n",
    "#                       sn, sn, .., sn]\n",
    "# Therefore each element si of  counts_sum_inv contributes M times to the gradients\n",
    "# through each elements of the i-th row of counts\n",
    "# dcounts_sum_inv/dloss = counts.sum(axis=1)\n",
    "# dloss/dcounts_sum_inv = dloss/dprobs * counts.sum(axis=1)\n",
    "dcounts_sum_inv = (dprobs * counts).sum(axis=1,  keepdims=True)   \n",
    "\n",
    "# dcounts_sum\n",
    "# counts_sum_inv = counts_sum**-1\n",
    "# dloss/dcounts_sum = dloss/dcounts_sum_inv * dcounts_sum_inv/dcounts_sum\n",
    "# dcounts_sum_inv/dcounts_sum = -1 counts_sum**-2\n",
    "# dloss/dcounts_sum = dloss/dcounts_sum_inv * (-1 counts_sum**-2)\n",
    "dcounts_sum = dcounts_sum_inv * (-1 * counts_sum**-2)\n",
    "\n",
    "# dcounts\n",
    "# The contribution of dcounts to the output of the model come from two distinct branches:\n",
    "#    - branch1 => probs = counts * counts_sum_inv \n",
    "#    - branch1 => counts_sum = counts.sum(1, keepdims=True)\n",
    "# The total gradient contribution of counts is the sum of the contributions from the 2 branches:\n",
    "#  dloss/counts =  dloss/counts_b1 + dloss/counts_b2\n",
    "# \n",
    "# First branch\n",
    "# dloss/counts_b1 = dloss/dprobs * dprobs/dcounts\n",
    "#                  = dloss/dprobs * counts_sum_inv\n",
    "# Second branch\n",
    "# the effect of the sum is spreading the gradient back to all the addends\n",
    "# For instance the dcounts_sum matrix\n",
    "#  dcounts_sum =  [ s1,\n",
    "#                   s2,\n",
    "#                   ..\n",
    "#                   sn]\n",
    "# get transformed into\n",
    "#  dcounts_b2 =    [ s1, s1, .., s1\n",
    "#                    s2, s2, .., s2\n",
    "#                    .., ..........\n",
    "#                    sn, sn, .., sn]\n",
    "# dloss/counts_b1 = dcounts_sum @ torch.ones((1, vocab_size))\n",
    "dcounts_b1 = dprobs * counts_sum_inv\n",
    "dcounts_b2 = dcounts_sum @ torch.ones((1, vocab_size))\n",
    "dcounts = dcounts_b1 + dcounts_b2\n",
    "\n",
    "\n",
    "# norm_logits\n",
    "# counts = norm_logits.exp()\n",
    "# dloss/dnorm_logits = dloss/dcounts * dcounts/dnorm_logits\n",
    "# dcounts/dnorm_logits = counts\n",
    "# dloss/dnorm_logits = dloss/dcounts * counts\n",
    "dnorm_logits = dcounts * counts\n",
    "\n",
    "# logit_maxes\n",
    "# norm_logits = logits - logit_maxes \n",
    "# dloss/logit_maxes = dloss/dnorm_logits * dnorm_logits/dlogit_maxes\n",
    "# Since:\n",
    "#  - logits has shape (batch_size, vocab_size)\n",
    "#  - logits has shape (batch_size, 1)\n",
    "# the logits - logit_maxes operation contains an implicit broadcasting operation\n",
    "# that transforms\n",
    "#  logit_maxes =  [ m1,\n",
    "#                   m2,\n",
    "#                   ..\n",
    "#                   mn]\n",
    "#  logit_maxes_b =    [ m1, m1, .., m1\n",
    "#                       m2, m2, .., m2\n",
    "#                       .., ..........\n",
    "#                       mn, mn, .., mn]\n",
    "#  therefore a sum operation is required when performing the backpropagation \n",
    "# dnorm_logits/dlogit_maxes = -1\n",
    "# dloss/logit_maxes = - dloss/dnorm_logits.sum(axis = 0)\n",
    "dlogit_maxes = -dnorm_logits.sum(axis=1,  keepdims=True)\n",
    "\n",
    "# logits\n",
    "# Since logits influence the output throgh 2 separate branches, 2 separate gradient need\n",
    "# to be computed:\n",
    "#    - branch1 => norm_logits = logits - logit_maxes\n",
    "#    - branch1 => logit_maxes = logits.max(1, keepdim=True).values\n",
    "# The total gradient is the sum of the 2 components:\n",
    "#  dloss/dlogits = dloss/dlogits_b1 + dloss/dlogits_b2\n",
    "# \n",
    "# First branch\n",
    "# dloss/dlogits_b1 = dloss/dnorm_logits * 1\n",
    "#                  = dloss/dnorm_logits\n",
    "# Second branch\n",
    "# The logit_maxes only backpropagate only to the elements of the logits matrix that correspond to the maxes;\n",
    "# for all the other elements the gradient is zero\n",
    "dlogits_b1 = dnorm_logits\n",
    "dlogits_b2 = torch.zeros_like(logits)\n",
    "dlogits_b2[torch.arange(batch_size), logits.argmax(axis=1)]  = 1\n",
    "dlogits_b2 = dlogits_b2 * dlogit_maxes\n",
    "dlogits = dlogits_b1 + dlogits_b2\n",
    "\n",
    "# h\n",
    "# logits = h @ W2 + b2\n",
    "# dloss/dh = dloss/logits * dlogits/dh \n",
    "# Transposing matrix W2 to allow correct matrix multiplication \n",
    "dh = (dlogits @ W2.T)\n",
    "\n",
    "# W2\n",
    "# logits = h @ W2 + b2\n",
    "# dloss/dW2 = dloss/logits * dlogits/dW2 \n",
    "# Transposing matrix h to allow correct matrix multiplication \n",
    "dW2 = (h.T @ dlogits) \n",
    "\n",
    "# b2\n",
    "# logits = h @ W2 + b2\n",
    "# dloss/db2 = dloss/logits * dlogits/db2 \n",
    "# Since there is an implicit broadcasting before the addition,\n",
    "# a sum of dlogits need to performed to correctly account of all the effects of B2\n",
    "# Transposing matrix h to allow correct matrix multiplication \n",
    "db2 = dlogits.sum(axis=0) \n",
    "\n",
    "# hpreact\n",
    "# h = torch.tanh(hpreact) \n",
    "# dloss/hpreact = dloss/dh * dh/dhpreact\n",
    "# dh/dhpreact = 1 - tanh(hpreact)**2\n",
    "# dloss/hpreact = dloss/dh * (1- h**2)\n",
    "dhpreact = dh * (1- h**2)\n",
    "\n",
    "# bngain\n",
    "# hpreact = bngain * bnraw + bnbias\n",
    "# dloss/dbngain = dloss/dhpreact * dhpreact/dbngain\n",
    "# Since there is an implicit broadcacts of the elements of bngain, a sum needs to be computed\n",
    "# to correctly account of all the effects of bngain\n",
    "dbngain = (dhpreact * bnraw).sum(axis=0, keepdims=True) \n",
    "\n",
    "# bnbias\n",
    "# hpreact = bngain * bnraw + bnbias\n",
    "# dloss/dbngain = dloss/dhpreact * dhpreact/bnbias\n",
    "# Since there is an implicit broadcacts of the elements of bnbias, a sum needs to be computed\n",
    "# to correctly account of all the effects of bnbias\n",
    "dbnbias = (dhpreact).sum(axis=0, keepdims=True) \n",
    "\n",
    "# bnraw\n",
    "# hpreact = bngain * bnraw + bnbias\n",
    "# dloss/bnraw = dloss/dhpreact * dhpreact/bnraw\n",
    "dbnraw = dhpreact * bngain \n",
    "\n",
    "# bnvar_inv\n",
    "# bnraw = bndiff * bnvar_inv\n",
    "# dloss/dbnvar_inv = dloss/dbnraw * dbnraw/dbnvar_in\n",
    "# Since there's an imnplicit broadcasting operation of bnvar_inv before the multiplication,\n",
    "# a sum operation needs to be carried out to take into account all the effects of bnvar_inv\n",
    "dbnvar_inv = (dbnraw * bndiff).sum(axis=0, keepdims=True)\n",
    "\n",
    "# bnvar\n",
    "# bnvar_inv = (bnvar + 1e-5)**-0.5\n",
    "# dloss/dbnvar = dloss/dbnvar_inv * dbnvar_inv/bnvar\n",
    "# dbnvar_inv/bnvar = -0.5(bnvar + 1e-5)**-1.5\n",
    "dbnvar = dbnvar_inv *  (-0.5*(bnvar + 1e-5)**-1.5)\n",
    "\n",
    "\n",
    "# bndiff2\n",
    "# bnvar = 1/(n-1)*(bndiff2).sum(0, keepdim=True)\n",
    "# bnvar.shape = (1, 64)\n",
    "# bndiff2.shape = (32, 64)\n",
    "# The effect of every elements of bnvar must be redistributed equally among \n",
    "# the n samples of bndiff2\n",
    "dbndiff2 = torch.ones_like(bndiff2) * dbnvar * (n-1)**-1  \n",
    "\n",
    "# bndiff\n",
    "# bndiff influences the output through 2 different branches:\n",
    "#   - bndiff2 = bndiff**2\n",
    "#   - bnraw = bndiff * bnvar_inv\n",
    "# dloss/dbndiff = dloss/dbndiff_b1 + dloss/dbndiff_b2\n",
    "dbndiff_b1 = dbndiff2 * 2 * bndiff \n",
    "dbndiff_b2 = dbnraw * (torch.ones_like(bndiff) * bnvar_inv)\n",
    "dbndiff = dbndiff_b1 + dbndiff_b2\n",
    "\n",
    "# bnmeani\n",
    "# bndiff = hprebn - bnmeani\n",
    "# A sum is required, since there is a implicit broadcast of bnmeani\n",
    "dbnmeani = - dbndiff.sum(axis=0, keepdims=True)\n",
    "\n",
    "# hprebn\n",
    "# Two different branches to consider:\n",
    "#  - bnmeani = 1/n*hprebn.sum(0, keepdim=True)\n",
    "#  - bndiff = hprebn - bnmeani\n",
    "dhprebn_b1 = dbnmeani * torch.ones_like(hprebn) * n**-1\n",
    "dhprebn_b2 = dbndiff.clone()\n",
    "dhprebn = dhprebn_b1 + dhprebn_b2\n",
    "\n",
    "# embcat\n",
    "# hprebn = embcat @ W1 + b1\n",
    "dembcat = dhprebn @ W1.T\n",
    "\n",
    "# W1\n",
    "# hprebn = embcat @ W1 + b1\n",
    "dW1 = embcat.T  @ dhprebn\n",
    "\n",
    "# b1\n",
    "# hprebn = embcat @ W1 + b1\n",
    "db1 = dhprebn.sum(axis=0)\n",
    "\n",
    "# emb\n",
    "# embcat = emb.view(emb.shape[0], -1)\n",
    "# Reshping back the gradient\n",
    "demb = dembcat.view((n, block_size, n_embd))\n",
    "\n",
    "# C\n",
    "# emb = C[Xb]\n",
    "# Givent that:\n",
    "#  - emb.shape = (32, 3, 10)\n",
    "#  - Xb.shape = (32, 3) \n",
    "#  - C.shape = (27, 10)\n",
    "# The gradients from demb must be aggregated properly in the dC matrix,\n",
    "# where each line corresponds to the embedding of a character\n",
    "# In practice :\n",
    "#   - each slice demb[i,j,:] must be summed to the right row of dC\n",
    "#   - the index of the right row is provided by X[i,j]\n",
    "dC = torch.zeros_like(C)\n",
    "for i in range(Xb.shape[0]):\n",
    "    for j in range(Xb.shape[1]):\n",
    "        dC[Xb[i, j]] += demb[i, j, :]\n",
    "\n",
    "\n",
    "cmp('logprobs', dlogprobs, logprobs)\n",
    "cmp('probs', dprobs, probs)\n",
    "cmp('counts_sum_inv', dcounts_sum_inv, counts_sum_inv)\n",
    "cmp('counts_sum', dcounts_sum, counts_sum)\n",
    "cmp('counts', dcounts, counts)\n",
    "cmp('norm_logits', dnorm_logits, norm_logits)\n",
    "cmp('logit_maxes', dlogit_maxes, logit_maxes)\n",
    "cmp('logits', dlogits, logits)\n",
    "cmp('h', dh, h)\n",
    "cmp('W2', dW2, W2)\n",
    "cmp('b2', db2, b2)\n",
    "cmp('hpreact', dhpreact, hpreact)\n",
    "cmp('bngain', dbngain, bngain)\n",
    "cmp('bnbias', dbnbias, bnbias)\n",
    "cmp('bnraw', dbnraw, bnraw)\n",
    "cmp('bnvar_inv', dbnvar_inv, bnvar_inv)\n",
    "cmp('bnvar', dbnvar, bnvar)\n",
    "cmp('bndiff2', dbndiff2, bndiff2)\n",
    "cmp('bndiff', dbndiff, bndiff)\n",
    "cmp('bnmeani', dbnmeani, bnmeani)\n",
    "cmp('hprebn', dhprebn, hprebn)\n",
    "cmp('embcat', dembcat, embcat)\n",
    "cmp('W1', dW1, W1)\n",
    "cmp('b1', db1, b1)\n",
    "cmp('emb', demb, emb)\n",
    "cmp('C', dC, C)"
   ]
  },
  {
   "cell_type": "code",
   "execution_count": 269,
   "metadata": {
    "id": "ebLtYji_8PPw"
   },
   "outputs": [
    {
     "name": "stdout",
     "output_type": "stream",
     "text": [
      "3.3430330753326416 diff: -2.384185791015625e-07\n"
     ]
    }
   ],
   "source": [
    "# Exercise 2: backprop through cross_entropy but all in one go\n",
    "# to complete this challenge look at the mathematical expression of the loss,\n",
    "# take the derivative, simplify the expression, and just write it out\n",
    "\n",
    "# forward pass\n",
    "\n",
    "# before:\n",
    "# logit_maxes = logits.max(1, keepdim=True).values\n",
    "# norm_logits = logits - logit_maxes # subtract max for numerical stability\n",
    "# counts = norm_logits.exp()\n",
    "# counts_sum = counts.sum(1, keepdims=True)\n",
    "# counts_sum_inv = counts_sum**-1 # if I use (1.0 / counts_sum) instead then I can't get backprop to be bit exact...\n",
    "# probs = counts * counts_sum_inv\n",
    "# logprobs = probs.log()\n",
    "# loss = -logprobs[range(n), Yb].mean()\n",
    "\n",
    "# now:\n",
    "loss_fast = F.cross_entropy(logits, Yb)\n",
    "print(loss_fast.item(), 'diff:', (loss_fast - loss).item())"
   ]
  },
  {
   "cell_type": "code",
   "execution_count": null,
   "metadata": {},
   "outputs": [],
   "source": []
  },
  {
   "cell_type": "code",
   "execution_count": 270,
   "metadata": {
    "id": "-gCXbB4C8PPx"
   },
   "outputs": [
    {
     "name": "stdout",
     "output_type": "stream",
     "text": [
      "logits          | exact: False | approximate: True  | maxdiff: 5.3551048040390015e-09\n"
     ]
    }
   ],
   "source": [
    "# backward pass\n",
    "\n",
    "# -----------------\n",
    "# YOUR CODE HERE :)\n",
    "# Through derivation we can find that the elements of the matrix dloss/dlogits \n",
    "# are :\n",
    "#   -  1/n * p,  in the general case\n",
    "#   -  1/n * (p-1) for the element, of the each row that correspond to the correct character\n",
    "dlogits = F.softmax(logits, 1)\n",
    "dlogits[range(n), Yb] -= 1\n",
    "dlogits /= n\n",
    "\n",
    "# -----------------\n",
    "\n",
    "cmp('logits', dlogits, logits) # I can only get approximate to be true, my maxdiff is 6e-9"
   ]
  },
  {
   "cell_type": "code",
   "execution_count": 271,
   "metadata": {
    "id": "hd-MkhB68PPy"
   },
   "outputs": [
    {
     "name": "stdout",
     "output_type": "stream",
     "text": [
      "max diff: tensor(4.7684e-07, grad_fn=<MaxBackward1>)\n"
     ]
    }
   ],
   "source": [
    "# Exercise 3: backprop through batchnorm but all in one go\n",
    "# to complete this challenge look at the mathematical expression of the output of batchnorm,\n",
    "# take the derivative w.r.t. its input, simplify the expression, and just write it out\n",
    "# BatchNorm paper: https://arxiv.org/abs/1502.03167\n",
    "\n",
    "# forward pass\n",
    "\n",
    "# before:\n",
    "# bnmeani = 1/n*hprebn.sum(0, keepdim=True)\n",
    "# bndiff = hprebn - bnmeani\n",
    "# bndiff2 = bndiff**2\n",
    "# bnvar = 1/(n-1)*(bndiff2).sum(0, keepdim=True) # note: Bessel's correction (dividing by n-1, not n)\n",
    "# bnvar_inv = (bnvar + 1e-5)**-0.5\n",
    "# bnraw = bndiff * bnvar_inv\n",
    "# hpreact = bngain * bnraw + bnbias\n",
    "\n",
    "# now:\n",
    "hpreact_fast = bngain * (hprebn - hprebn.mean(0, keepdim=True)) / torch.sqrt(hprebn.var(0, keepdim=True, unbiased=True) + 1e-5) + bnbias\n",
    "print('max diff:', (hpreact_fast - hpreact).abs().max())"
   ]
  },
  {
   "cell_type": "code",
   "execution_count": 272,
   "metadata": {
    "id": "POdeZSKT8PPy"
   },
   "outputs": [
    {
     "name": "stdout",
     "output_type": "stream",
     "text": [
      "hprebn          | exact: False | approximate: True  | maxdiff: 9.313225746154785e-10\n"
     ]
    }
   ],
   "source": [
    "# backward pass\n",
    "\n",
    "# before we had:\n",
    "# dbnraw = bngain * dhpreact\n",
    "# dbndiff = bnvar_inv * dbnraw\n",
    "# dbnvar_inv = (bndiff * dbnraw).sum(0, keepdim=True)\n",
    "# dbnvar = (-0.5*(bnvar + 1e-5)**-1.5) * dbnvar_inv\n",
    "# dbndiff2 = (1.0/(n-1))*torch.ones_like(bndiff2) * dbnvar\n",
    "# dbndiff += (2*bndiff) * dbndiff2\n",
    "# dhprebn = dbndiff.clone()\n",
    "# dbnmeani = (-dbndiff).sum(0)\n",
    "# dhprebn += 1.0/n * (torch.ones_like(hprebn) * dbnmeani)\n",
    "\n",
    "# calculate dhprebn given dhpreact (i.e. backprop through the batchnorm)\n",
    "# (you'll also need to use some of the variables from the forward pass up above)\n",
    "\n",
    "# -----------------\n",
    "# YOUR CODE HERE :)\n",
    "dhprebn = dhprebn = bngain*bnvar_inv/n * (n*dhpreact - dhpreact.sum(0) - n/(n-1)*bnraw*(dhpreact*bnraw).sum(0)) # TODO. my solution is 1 (long) line\n",
    "# -----------------\n",
    "\n",
    "cmp('hprebn', dhprebn, hprebn) # I can only get approximate to be true, my maxdiff is 9e-10"
   ]
  },
  {
   "cell_type": "code",
   "execution_count": 280,
   "metadata": {
    "id": "wPy8DhqB8PPz"
   },
   "outputs": [
    {
     "name": "stdout",
     "output_type": "stream",
     "text": [
      "12297\n",
      "      0/ 200000: 3.8122\n",
      "  10000/ 200000: 2.2169\n",
      "  20000/ 200000: 2.3811\n",
      "  30000/ 200000: 2.4354\n",
      "  40000/ 200000: 1.9824\n",
      "  50000/ 200000: 2.3442\n",
      "  60000/ 200000: 2.4130\n",
      "  70000/ 200000: 2.0661\n",
      "  80000/ 200000: 2.3295\n",
      "  90000/ 200000: 2.1536\n",
      " 100000/ 200000: 1.9675\n",
      " 110000/ 200000: 2.3085\n",
      " 120000/ 200000: 2.0076\n",
      " 130000/ 200000: 2.4129\n",
      " 140000/ 200000: 2.2260\n",
      " 150000/ 200000: 2.1704\n",
      " 160000/ 200000: 1.9733\n",
      " 170000/ 200000: 1.8684\n",
      " 180000/ 200000: 2.0643\n",
      " 190000/ 200000: 1.8851\n"
     ]
    }
   ],
   "source": [
    "# Exercise 4: putting it all together!\n",
    "# Train the MLP neural net with your own backward pass\n",
    "\n",
    "# init\n",
    "n_embd = 10 # the dimensionality of the character embedding vectors\n",
    "n_hidden = 200 # the number of neurons in the hidden layer of the MLP\n",
    "\n",
    "g = torch.Generator().manual_seed(2147483647) # for reproducibility\n",
    "C  = torch.randn((vocab_size, n_embd),            generator=g)\n",
    "# Layer 1\n",
    "W1 = torch.randn((n_embd * block_size, n_hidden), generator=g) * (5/3)/((n_embd * block_size)**0.5)\n",
    "b1 = torch.randn(n_hidden,                        generator=g) * 0.1\n",
    "# Layer 2\n",
    "W2 = torch.randn((n_hidden, vocab_size),          generator=g) * 0.1\n",
    "b2 = torch.randn(vocab_size,                      generator=g) * 0.1\n",
    "# BatchNorm parameters\n",
    "bngain = torch.randn((1, n_hidden))*0.1 + 1.0\n",
    "bnbias = torch.randn((1, n_hidden))*0.1\n",
    "\n",
    "parameters = [C, W1, b1, W2, b2, bngain, bnbias]\n",
    "print(sum(p.nelement() for p in parameters)) # number of parameters in total\n",
    "for p in parameters:\n",
    "  p.requires_grad = True\n",
    "\n",
    "# same optimization as last time\n",
    "max_steps = 200000\n",
    "batch_size = 32\n",
    "n = batch_size # convenience\n",
    "lossi = []\n",
    "\n",
    "# use this context manager for efficiency once your backward pass is written (TODO)\n",
    "with torch.no_grad():\n",
    "\n",
    "    # kick off optimization\n",
    "    for i in range(max_steps):\n",
    "      \n",
    "      # minibatch construct\n",
    "      ix = torch.randint(0, Xtr.shape[0], (batch_size,), generator=g)\n",
    "      Xb, Yb = Xtr[ix], Ytr[ix] # batch X,Y\n",
    "    \n",
    "      # forward pass\n",
    "      emb = C[Xb] # embed the characters into vectors\n",
    "      embcat = emb.view(emb.shape[0], -1) # concatenate the vectors\n",
    "      # Linear layer\n",
    "      hprebn = embcat @ W1 + b1 # hidden layer pre-activation\n",
    "      # BatchNorm layer\n",
    "      # -------------------------------------------------------------\n",
    "      bnmean = hprebn.mean(0, keepdim=True)\n",
    "      bnvar = hprebn.var(0, keepdim=True, unbiased=True)\n",
    "      bnvar_inv = (bnvar + 1e-5)**-0.5\n",
    "      bnraw = (hprebn - bnmean) * bnvar_inv\n",
    "      hpreact = bngain * bnraw + bnbias\n",
    "      # -------------------------------------------------------------\n",
    "      # Non-linearity\n",
    "      h = torch.tanh(hpreact) # hidden layer\n",
    "      logits = h @ W2 + b2 # output layer\n",
    "      loss = F.cross_entropy(logits, Yb) # loss function\n",
    "    \n",
    "      # backward pass\n",
    "      for p in parameters:\n",
    "        p.grad = None\n",
    "      #loss.backward() # use this for correctness comparisons, delete it later!\n",
    "    \n",
    "      # manual backprop! #swole_doge_meme\n",
    "      # -----------------\n",
    "      # YOUR CODE HERE :)\n",
    "      dlogits = F.softmax(logits, 1)\n",
    "      dlogits[range(n), Yb] -= 1\n",
    "      dlogits /= n\n",
    "      # 2nd layer backprop\n",
    "      dh = dlogits @ W2.T\n",
    "      dW2 = h.T @ dlogits\n",
    "      db2 = dlogits.sum(0)\n",
    "      # tanh\n",
    "      dhpreact = (1.0 - h**2) * dh\n",
    "      # batchnorm backprop\n",
    "      dbngain = (bnraw * dhpreact).sum(0, keepdim=True)\n",
    "      dbnbias = dhpreact.sum(0, keepdim=True)\n",
    "      dhprebn = bngain*bnvar_inv/n * (n*dhpreact - dhpreact.sum(0) - n/(n-1)*bnraw*(dhpreact*bnraw).sum(0))\n",
    "      # 1st layer\n",
    "      dembcat = dhprebn @ W1.T\n",
    "      dW1 = embcat.T @ dhprebn\n",
    "      db1 = dhprebn.sum(0)\n",
    "      # embedding\n",
    "      demb = dembcat.view(emb.shape)\n",
    "      dC = torch.zeros_like(C)\n",
    "      for k in range(Xb.shape[0]):\n",
    "        for j in range(Xb.shape[1]):\n",
    "          ix = Xb[k,j]\n",
    "          dC[ix] += demb[k,j]\n",
    "      grads = [dC, dW1, db1, dW2, db2, dbngain, dbnbias]\n",
    "      #dC, dW1, db1, dW2, db2, dbngain, dbnbias = None, None, None, None, None, None, None\n",
    "      #grads = [dC, dW1, db1, dW2, db2, dbngain, dbnbias]\n",
    "      # -----------------\n",
    "    \n",
    "      # update\n",
    "      lr = 0.1 if i < 100000 else 0.01 # step learning rate decay\n",
    "      for p, grad in zip(parameters, grads):\n",
    "        #p.data += -lr * p.grad # old way of cheems doge (using PyTorch grad from .backward())\n",
    "        p.data += -lr * grad # new way of swole doge TODO: enable\n",
    "    \n",
    "      # track stats\n",
    "      if i % 10000 == 0: # print every once in a while\n",
    "        print(f'{i:7d}/{max_steps:7d}: {loss.item():.4f}')\n",
    "      lossi.append(loss.log10().item())\n",
    "\n",
    "  #if i >= 100: # TODO: delete early breaking when you're ready to train the full net\n",
    "  #  break"
   ]
  },
  {
   "cell_type": "code",
   "execution_count": 281,
   "metadata": {
    "id": "ZEpI0hMW8PPz"
   },
   "outputs": [],
   "source": [
    "# useful for checking your gradients\n",
    "# for p,g in zip(parameters, grads):\n",
    "#   cmp(str(tuple(p.shape)), g, p)"
   ]
  },
  {
   "cell_type": "code",
   "execution_count": 282,
   "metadata": {
    "id": "KImLWNoh8PP0"
   },
   "outputs": [],
   "source": [
    "# calibrate the batch norm at the end of training\n",
    "\n",
    "with torch.no_grad():\n",
    "  # pass the training set through\n",
    "  emb = C[Xtr]\n",
    "  embcat = emb.view(emb.shape[0], -1)\n",
    "  hpreact = embcat @ W1 + b1\n",
    "  # measure the mean/std over the entire training set\n",
    "  bnmean = hpreact.mean(0, keepdim=True)\n",
    "  bnvar = hpreact.var(0, keepdim=True, unbiased=True)\n"
   ]
  },
  {
   "cell_type": "code",
   "execution_count": 283,
   "metadata": {
    "id": "6aFnP_Zc8PP0"
   },
   "outputs": [
    {
     "name": "stdout",
     "output_type": "stream",
     "text": [
      "train 2.072291851043701\n",
      "val 2.1111652851104736\n"
     ]
    }
   ],
   "source": [
    "# evaluate train and val loss\n",
    "\n",
    "@torch.no_grad() # this decorator disables gradient tracking\n",
    "def split_loss(split):\n",
    "  x,y = {\n",
    "    'train': (Xtr, Ytr),\n",
    "    'val': (Xdev, Ydev),\n",
    "    'test': (Xte, Yte),\n",
    "  }[split]\n",
    "  emb = C[x] # (N, block_size, n_embd)\n",
    "  embcat = emb.view(emb.shape[0], -1) # concat into (N, block_size * n_embd)\n",
    "  hpreact = embcat @ W1 + b1\n",
    "  hpreact = bngain * (hpreact - bnmean) * (bnvar + 1e-5)**-0.5 + bnbias\n",
    "  h = torch.tanh(hpreact) # (N, n_hidden)\n",
    "  logits = h @ W2 + b2 # (N, vocab_size)\n",
    "  loss = F.cross_entropy(logits, y)\n",
    "  print(split, loss.item())\n",
    "\n",
    "split_loss('train')\n",
    "split_loss('val')"
   ]
  },
  {
   "cell_type": "code",
   "execution_count": 284,
   "metadata": {
    "id": "esWqmhyj8PP1"
   },
   "outputs": [],
   "source": [
    "# I achieved:\n",
    "# train 2.0718822479248047\n",
    "# val 2.1162495613098145"
   ]
  },
  {
   "cell_type": "code",
   "execution_count": 285,
   "metadata": {
    "id": "xHeQNv3s8PP1"
   },
   "outputs": [
    {
     "name": "stdout",
     "output_type": "stream",
     "text": [
      "carlaveah.\n",
      "jhavi.\n",
      "kimri.\n",
      "reity.\n",
      "skanden.\n",
      "jazhukwu.\n",
      "perric.\n",
      "kaeli.\n",
      "ner.\n",
      "kiah.\n",
      "maiivia.\n",
      "leigh.\n",
      "ham.\n",
      "joce.\n",
      "quinn.\n",
      "shoisea.\n",
      "jadbi.\n",
      "waythoniearyxi.\n",
      "jaxen.\n",
      "dura.\n"
     ]
    }
   ],
   "source": [
    "# sample from the model\n",
    "g = torch.Generator().manual_seed(2147483647 + 10)\n",
    "\n",
    "for _ in range(20):\n",
    "\n",
    "    out = []\n",
    "    context = [0] * block_size # initialize with all ...\n",
    "    while True:\n",
    "      # forward pass\n",
    "      emb = C[torch.tensor([context])] # (1,block_size,d)\n",
    "      embcat = emb.view(emb.shape[0], -1) # concat into (N, block_size * n_embd)\n",
    "      hpreact = embcat @ W1 + b1\n",
    "      hpreact = bngain * (hpreact - bnmean) * (bnvar + 1e-5)**-0.5 + bnbias\n",
    "      h = torch.tanh(hpreact) # (N, n_hidden)\n",
    "      logits = h @ W2 + b2 # (N, vocab_size)\n",
    "      # sample\n",
    "      probs = F.softmax(logits, dim=1)\n",
    "      ix = torch.multinomial(probs, num_samples=1, generator=g).item()\n",
    "      context = context[1:] + [ix]\n",
    "      out.append(ix)\n",
    "      if ix == 0:\n",
    "        break\n",
    "\n",
    "    print(''.join(itos[i] for i in out))"
   ]
  },
  {
   "cell_type": "code",
   "execution_count": null,
   "metadata": {},
   "outputs": [],
   "source": []
  }
 ],
 "metadata": {
  "colab": {
   "provenance": []
  },
  "kernelspec": {
   "display_name": "Python 3 (ipykernel)",
   "language": "python",
   "name": "python3"
  },
  "language_info": {
   "codemirror_mode": {
    "name": "ipython",
    "version": 3
   },
   "file_extension": ".py",
   "mimetype": "text/x-python",
   "name": "python",
   "nbconvert_exporter": "python",
   "pygments_lexer": "ipython3",
   "version": "3.10.6"
  }
 },
 "nbformat": 4,
 "nbformat_minor": 4
}
